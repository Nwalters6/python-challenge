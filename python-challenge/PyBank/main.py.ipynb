{
 "cells": [
  {
   "cell_type": "code",
   "execution_count": 1,
   "metadata": {},
   "outputs": [
    {
     "name": "stdout",
     "output_type": "stream",
     "text": [
      "-------------------------------\n",
      "Financial Analysis\n",
      "-------------------------------\n",
      "Total Months: 86\n",
      "Total Revenue: ($36973911)\n",
      "Average Revenue Change: ($-5955)\n",
      "Greatest Increase in Revenue: Jul-2014 ($1645140)\n",
      "Greatest Decrease in Revenue: Jun-2014 ($-1947745)\n",
      "-------------------------------\n",
      "\n"
     ]
    }
   ],
   "source": [
    "import os\n",
    "import csv\n",
    "\n",
    "csvpath1 = os.path.join(\"raw_data\", \"budget_data_2.csv\")\n",
    "#Un-comment line below and comment out above line to test with 2nd data set\n",
    "#csvpath1 = os.path.join(path, \"raw_data\", \"budget_data_2.csv\")\n",
    "\n",
    "line = 0\n",
    "months = []\n",
    "total_revenue = 0\n",
    "csv_dict =  {}\n",
    "last_num = 0\n",
    "change_dict = {}\n",
    "total_change = 0 \n",
    "\n",
    "\n",
    "with open(csvpath1, newline=\"\") as csvfile1:\n",
    "    csvreader1 = csv.reader(csvfile1, delimiter=\",\")\n",
    "    #SKIP HEADER\n",
    "    csvreader1.__next__()\n",
    "\n",
    "    for row in csvreader1:\n",
    "        \n",
    "        #CALCULATING TOTAL REVENUE\n",
    "        total_revenue = total_revenue + int(row[1])\n",
    "        \n",
    "        #MAKE LIST OF MONTHS TO COUNT\n",
    "        if row[0] not in months:\n",
    "            months.append(row[0])\n",
    "            #CALCULATE MONTHLY CHANGE\n",
    "            change_dict[row[0]] = int(row[1]) - last_num\n",
    "            last_num =  int(row[1])\n",
    "\n",
    "  \n",
    "for key, value in change_dict.items():\n",
    "    #SKIP FIRST MONTH\n",
    "    if key == months[0]:\n",
    "        num = 0\n",
    "    else:\n",
    "        #CALCULATE TOTAL CHANGE FOR AVERAGE\n",
    "        total_change = total_change + value\n",
    "        \n",
    "\n",
    "#FIND MONTHS OF MIN AND MAX CHANGES\n",
    "min_price = min(zip(change_dict.values(), change_dict.keys()))\n",
    "max_price = max(zip(change_dict.values(), change_dict.keys()))\n",
    "\n",
    "min_change = (min_price[1] + \" ($\" + str(int(min_price[0]))+\")\")\n",
    "max_change = (max_price[1] + \" ($\" + str(int(max_price[0]))+\")\")\n",
    "\n",
    "\n",
    "total_revenue = \"($\" + str(int(total_revenue))+\")\"\n",
    "num_months = len(months)\n",
    "avg_change = \"($\" + str(int(total_change/(num_months - 1)))+\")\"\n",
    "\n",
    "line = \"-------------------------------\"\n",
    "results = (\n",
    "    line +'\\n' + \"Financial Analysis\" +'\\n' + line +'\\n'\n",
    "    \"Total Months: \"+ str(num_months) +'\\n'\n",
    "    \"Total Revenue: \"+ str(total_revenue) +'\\n'\n",
    "    \"Average Revenue Change: \"+ str(avg_change) +'\\n'\n",
    "    \"Greatest Increase in Revenue: \"+ str(max_change) +'\\n'\n",
    "    \"Greatest Decrease in Revenue: \"+ str(min_change) +'\\n' + line +'\\n'\n",
    "    )\n",
    "\n",
    "print(results)\n",
    "\n",
    "f = open(\"Financial_Analysis.txt\", \"w\")\n",
    "\n",
    "f.write(results)\n",
    "\n",
    "f.close()"
   ]
  },
  {
   "cell_type": "code",
   "execution_count": null,
   "metadata": {},
   "outputs": [],
   "source": []
  }
 ],
 "metadata": {
  "kernelspec": {
   "display_name": "Python 3",
   "language": "python",
   "name": "python3"
  },
  "language_info": {
   "codemirror_mode": {
    "name": "ipython",
    "version": 3
   },
   "file_extension": ".py",
   "mimetype": "text/x-python",
   "name": "python",
   "nbconvert_exporter": "python",
   "pygments_lexer": "ipython3",
   "version": "3.6.4"
  }
 },
 "nbformat": 4,
 "nbformat_minor": 2
}
