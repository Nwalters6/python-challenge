{
 "cells": [
  {
   "cell_type": "code",
   "execution_count": 1,
   "metadata": {},
   "outputs": [
    {
     "name": "stdout",
     "output_type": "stream",
     "text": [
      "Election Results\n",
      "-------------------------------\n",
      "Total Votes: 3521002\n",
      "-------------------------------\n",
      "\n",
      "Khan :  63.0% (2218231)\n",
      "Correy :  20.0% (704200)\n",
      "Li :  14.0% (492940)\n",
      "O'Tooley :  3.0% (105630)\n",
      "-------------------------------\n",
      "Winner: Khan\n",
      "-------------------------------\n",
      "\n"
     ]
    }
   ],
   "source": [
    "import os\n",
    "import csv\n",
    "\n",
    "csvpath = os.path.join(\"raw_data\", \"election_data_2.csv\")\n",
    "\n",
    "votes = 0\n",
    "candidates = []\n",
    "vote_count = {}\n",
    "vote_percent = {}\n",
    "\n",
    "with open(csvpath, newline=\"\") as csvfile:\n",
    "    csvreader = csv.reader(csvfile, delimiter=\",\")\n",
    "    \n",
    "    \n",
    "    #COUNT VOTES + LIST CANDIDATES\n",
    "    for row in csvreader:\n",
    "        \n",
    "        votes = votes + 1        \n",
    "\n",
    "        if row[2] not in candidates and row[2] not in \"Candidate\":\n",
    "            candidates.append(row[2])\n",
    "            vote_count[row[2]] = 1\n",
    "        elif row[2] in candidates and row[2] not in \"Candidate\":\n",
    "            vote_count[row[2]] = vote_count[row[2]] + 1\n",
    "\n",
    "    #CALCULATE PERCENTAGE OF VOTES\n",
    "    for key, value in vote_count.items():\n",
    "        vote_percent[key] = str(round(((value/votes)*100),3)) + \"% (\"+str(value) + \")\"\n",
    "    \n",
    "    #FIND WINNER\n",
    "    maxi = max(vote_count.keys(), key=(lambda k: vote_count[k]))    \n",
    "    \n",
    "    #MAKE VARIABLES FOR PRINTING RESULTS\n",
    "    space = \"-------------------------------\"\n",
    "    results1 = (\n",
    "        \"Election Results\" + '\\n' + space + '\\n' + \"Total Votes: \"+ str(votes)+ '\\n' + space + '\\n')\n",
    "    results2 = (\n",
    "        space + '\\n'\n",
    "        \"Winner: \"+ str(maxi)+ '\\n' + space + '\\n')\n",
    "   \n",
    "   #PRINT RESULTS\n",
    "    print(results1)\n",
    "    for key, val in vote_percent.items():\n",
    "        print(key, \": \", val)\n",
    "    print(results2)\n",
    "    \n",
    "    #CREATE TEXT FILE\n",
    "    f = open(\"Election_results.txt\", \"w\")\n",
    "\n",
    "    f.write(results1)\n",
    "    for key, val in vote_percent.items():\n",
    "         f.write((key + \": \" + val)+ '\\n')\n",
    "    f.write(results2)\n",
    "    \n",
    "    f.close()"
   ]
  }
 ],
 "metadata": {
  "kernelspec": {
   "display_name": "Python 3",
   "language": "python",
   "name": "python3"
  },
  "language_info": {
   "codemirror_mode": {
    "name": "ipython",
    "version": 3
   },
   "file_extension": ".py",
   "mimetype": "text/x-python",
   "name": "python",
   "nbconvert_exporter": "python",
   "pygments_lexer": "ipython3",
   "version": "3.6.4"
  }
 },
 "nbformat": 4,
 "nbformat_minor": 2
}
